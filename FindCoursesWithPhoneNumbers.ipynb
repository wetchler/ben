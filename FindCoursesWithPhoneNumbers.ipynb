{
 "cells": [
  {
   "cell_type": "markdown",
   "id": "68083337-f174-4d85-94c9-f2fa03296ec9",
   "metadata": {},
   "source": [
    "# Ben is my best friend"
   ]
  },
  {
   "cell_type": "markdown",
   "id": "d1c8e7ae-6cda-4d63-bfe7-da5567251f28",
   "metadata": {},
   "source": [
    "### Load code libraries that we'll need"
   ]
  },
  {
   "cell_type": "code",
   "execution_count": 1,
   "id": "066fde51-ae7b-45f4-ad9b-9187d8ee8aaf",
   "metadata": {},
   "outputs": [],
   "source": [
    "%matplotlib inline"
   ]
  },
  {
   "cell_type": "code",
   "execution_count": 2,
   "id": "d9dc4c61-286e-4fde-8913-e811855770d5",
   "metadata": {
    "tags": []
   },
   "outputs": [],
   "source": [
    "# Native python libraries\n",
    "import datetime\n",
    "import os\n",
    "\n",
    "# Third party libraries\n",
    "from bs4 import BeautifulSoup\n",
    "import matplotlib as mpl\n",
    "import matplotlib.pyplot as plt\n",
    "import pandas as pd\n",
    "import seaborn as sns\n",
    "import requests\n",
    "sns.set_theme()"
   ]
  },
  {
   "cell_type": "markdown",
   "id": "44729e1e-2c5b-48d5-a1bb-d1f5bd402dcf",
   "metadata": {},
   "source": [
    "### Store all the URLs for all the states using this website format"
   ]
  },
  {
   "cell_type": "code",
   "execution_count": 3,
   "id": "1f61a4bb-aa06-4775-a375-0a89a93e4a39",
   "metadata": {
    "tags": []
   },
   "outputs": [],
   "source": [
    "URLS = {\n",
    "  'AK': 'https://www.golfalaska.com/golfcourses/results.cfm?startrow=',    \n",
    "  'AL': 'https://www.golfalabama.com/golfcourses/results.cfm?startrow=',\n",
    "  'AZ': 'https://www.arizonagolfer.com/golfcourses/results.cfm?startrow=',\n",
    "  'AR': 'https://www.arkansasgolf.com/golfcourses/results.cfm?startrow=',\n",
    "  'CA': 'https://www.cagolf.com/golfcourses/results.cfm?startrow=',\n",
    "  'CO': 'https://www.golfingcolorado.com/golfcourses/results.cfm?startrow=',\n",
    "  'CT': 'https://www.connecticutgolf.com/golfcourses/results.cfm?startrow=',\n",
    "  'DE': 'https://www.golfdelaware.com/golfcourses/results.cfm?startrow=',\n",
    "  'DC': 'https://www.dcgolf.com/golfcourses/results.cfm?startrow=',\n",
    "  'FL': 'https://www.floridagolfer.com/golfcourses/results.cfm?startrow=',\n",
    "  'GA': 'https://www.golfinggeorgia.com/golfcourses/results.cfm?startrow=',\n",
    "  'HI': 'https://www.hawaiigolfcourses.com/golfcourses/results.cfm?startrow=',\n",
    "  'ID': 'https://www.idahogolf.com/golfcourses/results.cfm?startrow=',\n",
    "  'IL': 'https://www.illinoisgolf.com/golfcourses/results.cfm?startrow=',\n",
    "  'IN': 'https://www.indianagolf.com/golfcourses/results.cfm?startrow=',\n",
    "  'IA': 'https://www.iowagolf.com/golfcourses/results.cfm?startrow=',\n",
    "  'KS': 'https://www.kansasgolf.com/golfcourses/results.cfm?startrow=',\n",
    "  'KY': 'https://www.kentuckygolf.com/golfcourses/results.cfm?startrow=',\n",
    "  'LA': 'https://www.louisianagolf.com/golfcourses/results.cfm?startrow=',\n",
    "  'ME': 'https://www.mainegolf.com/golfcourses/results.cfm?startrow=',\n",
    "  'MD': 'https://www.marylandgolf.com/golfcourses/results.cfm?startrow=',\n",
    "  'MA': 'https://www.golfmassachusetts.com/golfcourses/results.cfm?startrow=',\n",
    "  'MI': 'https://www.golfmichigan.com/golfcourses/results.cfm?startrow=',\n",
    "  'MN': 'https://www.minnesotagolf.com/golfcourses/results.cfm?startrow=',\n",
    "  'MS': 'https://www.golfmississippi.com/golfcourses/results.cfm?startrow=',\n",
    "  'MO': 'https://www.golfmissouri.com/golfcourses/results.cfm?startrow=',\n",
    "  'MT': 'https://www.golfingmontana.com/golfcourses/results.cfm?startrow=',\n",
    "  'NE': 'https://www.golfnebraska.com/golfcourses/results.cfm?startrow=',\n",
    "  'NV': 'https://www.golfnevada.com/golfcourses/results.cfm?startrow=',\n",
    "  'NH': 'https://www.newhampshiregolf.com/golfcourses/results.cfm?startrow=',\n",
    "  'NJ': 'https://www.njgolf.com/golfcourses/results.cfm?startrow=',\n",
    "  'NM': 'https://www.golfingnewmexico.com/golfcourses/results.cfm?startrow=',\n",
    "  'NY': 'https://www.nygolf.com/golfcourses/results.cfm?startrow=',\n",
    "  'NC': 'https://www.ncgolf.com/golfcourses/results.cfm?startrow=',\n",
    "  'ND': 'https://www.northdakotagolf.com/golfcourses/results.cfm?startrow=',\n",
    "  'OH': 'https://www.ohiogolf.com/golfcourses/results.cfm?startrow=',\n",
    "  'OK': 'https://www.golfoklahoma.com/golfcourses/results.cfm?startrow=',\n",
    "  'OR': 'https://www.golforegon.com/golfcourses/results.cfm?startrow=',\n",
    "  'PA': 'https://www.pennsylvaniagolfer.com/golfcourses/results.cfm?startrow=',\n",
    "  'RI': 'https://www.rhodeislandgolf.com/golfcourses/results.cfm?startrow=',\n",
    "  'SC': 'https://www.scgolf.com/golfcourses/results.cfm?startrow=',\n",
    "  'SD': 'https://www.southdakotagolf.com/golfcourses/results.cfm?startrow=',\n",
    "  'TN': 'https://www.golftennessee.com/golfcourses/results.cfm?startrow=',\n",
    "  'TX': 'https://www.texasgolf.com/golfcourses/results.cfm?startrow=',\n",
    "  'UT': 'https://www.utahgolf.com/golfcourses/results.cfm?startrow=',\n",
    "  'VT': 'https://www.golfvermont.com/golfcourses/results.cfm?startrow=',\n",
    "  'VA': 'https://www.golfvirginia.com/golfcourses/results.cfm?startrow=',\n",
    "  'WA': 'https://www.washingtongolf.com/golfcourses/results.cfm?startrow=',\n",
    "  'WV': 'https://www.golfwestvirginia.com/golfcourses/results.cfm?startrow=',\n",
    "  'WI': 'https://www.golfwisconsin.com/golfcourses/results.cfm?startrow=',\n",
    "  'WY': 'https://www.golfwyoming.com/golfcourses/results.cfm?startrow=',\n",
    "}\n",
    "\n",
    "OUTPUT_FILENAME = 'all_courses.csv'"
   ]
  },
  {
   "cell_type": "markdown",
   "id": "048a7d2e-1c64-42a2-b5e6-04bdfd38600c",
   "metadata": {},
   "source": [
    "### Helper functions"
   ]
  },
  {
   "cell_type": "code",
   "execution_count": 4,
   "id": "4b6b66f5-c6ed-432b-a898-dbd6623abf29",
   "metadata": {
    "tags": []
   },
   "outputs": [],
   "source": [
    "# Given a direct url to a single course's information page, find and return the phone number.\n",
    "def get_course_phone(url):\n",
    "    response = requests.get(url)\n",
    "    soup = BeautifulSoup(response.text)\n",
    "    elt = soup.find_all('h4')[0]  # The first h4 is the one we want\n",
    "    lines = elt.text.splitlines()\n",
    "    for line in lines:\n",
    "        line = line.strip()  # Remove whitespace\n",
    "        if line.startswith('Phone:'):\n",
    "            # Will look like: 'Phone: 270-646-4653'\n",
    "            return line.split()[1]  # Return everything after the first space"
   ]
  },
  {
   "cell_type": "code",
   "execution_count": 5,
   "id": "77c0001f-4972-4049-877f-a96586390182",
   "metadata": {
    "tags": []
   },
   "outputs": [],
   "source": [
    "# Return data for (up to) 20 golf courses on the given website, starting with course number \"row_start\"\n",
    "def get_page(base_url, row_start, data):\n",
    "    url = base_url + str(row_start)\n",
    "\n",
    "    # Try to fetch the page three times, in case a request fails\n",
    "    response = None\n",
    "    tries = 3\n",
    "    while tries > 0:\n",
    "        tries -= 1\n",
    "        try:\n",
    "            response = requests.get(url)\n",
    "            break\n",
    "        except requests.exceptions.RequestException as e:\n",
    "            print()\n",
    "            print(e)\n",
    "            if tries > 0:\n",
    "                print(f'Exception. Retrying {tries} more times...')\n",
    "            else:\n",
    "                # Reraise error, halting the code\n",
    "                raise\n",
    "\n",
    "    # From 'https://www.kentuckygolf.com/golfcourses/results.cfm?startrow='\n",
    "    # extract the substring, 'https://www.kentuckygolf.com/golfcourses/'\n",
    "    # We'll use this to fetch individual course phone numbers later.\n",
    "    root_url = url.split('results.cfm')[0]\n",
    "\n",
    "    # Find all the golf course information blocks, which are identified by\n",
    "    # an <h4> tag with an <a> nested inside it (which has the course name\n",
    "    # and a link to its website). We are looking for things like:\n",
    "    # <h4><a href=\"../golfcourses/barren-river-lake-golf-course\">Barren River Lake State Resort Park</a></h4>\n",
    "    soup = BeautifulSoup(response.text)\n",
    "    headers = soup.find_all('h4')\n",
    "    filtered_headers = []\n",
    "    for elt in headers:\n",
    "        if elt.find('a'):\n",
    "            filtered_headers.append(elt)\n",
    "\n",
    "    results = []\n",
    "    if not filtered_headers:\n",
    "        return results, False\n",
    "    all_fetched_before = True\n",
    "    for i, elt in enumerate(filtered_headers):\n",
    "        url = elt.find('a').attrs['href']  # Will look like '../golfcourses/barren-river-lake-golf-course'\n",
    "        url = root_url + url.split('/golfcourses/')[1]  # Extract 'barren-river-lake-golf-course'\n",
    "        if url in data['url'].values:\n",
    "            # Already fetched this one\n",
    "            print(f'#{i + row_start}✓', end=' ')\n",
    "            continue\n",
    "        all_fetched_before = False\n",
    "        print(f'#{len(results) + row_start}', end=' ')\n",
    "        name = elt.text.strip()  # Remove whitespace\n",
    "        address = elt.findNext('p').findNext('p').text  # Address is listed two <p> tags later\n",
    "        address = ' '.join(address.split())  # Remove interstitial white space\n",
    "        phone = get_course_phone(url)  # Load the course page and find the phone number\n",
    "        results.append([name, address, phone, url])\n",
    "    print()\n",
    "    return results, all_fetched_before"
   ]
  },
  {
   "cell_type": "code",
   "execution_count": 6,
   "id": "0db80ed7-102d-4976-a4f6-9f0d4f2c22a9",
   "metadata": {},
   "outputs": [],
   "source": [
    "def extract_zip(address):\n",
    "    # '3651 OMalley Rd Anchorage, AK 99516' -> 99516\n",
    "    if isinstance(address, str):\n",
    "        zipcode = address.split()[-1]\n",
    "        if zipcode.isdigit():\n",
    "            return int(zipcode)\n",
    "        return None\n",
    "    return None"
   ]
  },
  {
   "cell_type": "code",
   "execution_count": 7,
   "id": "a171da33-e49f-42f6-b1ec-53ff008ae57e",
   "metadata": {},
   "outputs": [],
   "source": [
    "def create_time_delta(t1, t2):\n",
    "    dt = t2 - t1\n",
    "    seconds = dt.seconds + dt.days*24*60*60\n",
    "    hours = seconds // 3600\n",
    "    seconds = seconds % 3600\n",
    "    minutes = seconds // 60\n",
    "    seconds = seconds % 60\n",
    "    return f'[{hours}:{minutes:02d}:{seconds:02d}]'"
   ]
  },
  {
   "cell_type": "markdown",
   "id": "6ea24e36-c802-4ff5-8e7f-cdc47c0e99b4",
   "metadata": {},
   "source": [
    "### Fetch each state's data, saving as we go"
   ]
  },
  {
   "cell_type": "code",
   "execution_count": null,
   "id": "7c36a5dc-33d3-424f-9c6f-a66fedac4629",
   "metadata": {},
   "outputs": [
    {
     "name": "stdout",
     "output_type": "stream",
     "text": [
      "Current state: GA\n",
      "(Already fetched everything for AK - 21 courses)\n",
      "(Already fetched everything for AL - 246 courses)\n",
      "(Already fetched everything for AR - 178 courses)\n",
      "(Already fetched everything for AZ - 308 courses)\n",
      "(Already fetched everything for CA - 1008 courses)\n",
      "(Already fetched everything for CO - 238 courses)\n",
      "(Already fetched everything for CT - 171 courses)\n",
      "(Already fetched everything for DC - 5 courses)\n",
      "(Already fetched everything for DE - 43 courses)\n",
      "(Already fetched everything for FL - 1082 courses)\n",
      "Fetching courses for: GA\n",
      "#1✓ #2✓ #3✓ #4✓ #5✓ #6✓ #7✓ #8✓ #9✓ #10✓ #11✓ #12✓ #13✓ #14✓ #15✓ #16✓ #17✓ #18✓ #19✓ #20✓ \n",
      "#21 "
     ]
    }
   ],
   "source": [
    "if os.path.exists(OUTPUT_FILENAME):\n",
    "    data = pd.read_csv(OUTPUT_FILENAME)\n",
    "else:\n",
    "    data = pd.DataFrame([], columns=['name', 'address', 'state', 'zip', 'phone', 'url'])\n",
    "\n",
    "current_state = ''\n",
    "if len(data) > 0:\n",
    "    current_state = max(data['state'])\n",
    "    print(\"Current state:\", current_state)\n",
    "else:\n",
    "    print(\"Starting fresh\")\n",
    "\n",
    "start_time = datetime.datetime.now()\n",
    "# Loop through each state and URL pair\n",
    "states_alphabetical = sorted(URLS.keys())\n",
    "for state in states_alphabetical:\n",
    "    if state < current_state:\n",
    "        nfetched = sum(data['state'] == state)\n",
    "        assert nfetched > 0, f'Trying to skip {state} but there is no data for it yet?'\n",
    "        print(f'(Already fetched everything for {state} - {nfetched} courses)')\n",
    "        continue\n",
    "    url = URLS[state]\n",
    "    print('Fetching courses for:', state)\n",
    "    row = 1\n",
    "    state_start = datetime.datetime.now()\n",
    "    courses_before = sum(data['state'] == state)\n",
    "    while True:\n",
    "        dt = create_time_delta(start_time, datetime.datetime.now())\n",
    "        new_results, all_fetched_before = get_page(url, row, data)\n",
    "        \n",
    "        # Create a DataFrame from the new results\n",
    "        new_data = pd.DataFrame(new_results, columns=['name', 'address', 'phone', 'url'])\n",
    "        new_data['state'] = state\n",
    "        new_data['zip'] = new_data['address'].apply(extract_zip)\n",
    "\n",
    "        # Add it to our existing data\n",
    "        data = pd.concat([data, new_data])\n",
    "\n",
    "        # Make sure the data is sorted sensibly\n",
    "        data = data.sort_values(['state', 'name'])\n",
    "        \n",
    "        # Save the DataFrame to a single CSV file\n",
    "        data.to_csv(OUTPUT_FILENAME, index=False)\n",
    "    \n",
    "        if (len(new_results) < 20) and not all_fetched_before:\n",
    "            break\n",
    "        row += 20\n",
    "    dt = create_time_delta(state_start, datetime.datetime.now())\n",
    "    total_courses = sum(data['state'] == state)\n",
    "    if courses_before > 0:\n",
    "        courses_fetched = sum(data['state'] == state) - courses_before\n",
    "        print(f\"{courses_fetched} more courses pulled for {state} (total = {total_courses}) - took {dt}\")\n",
    "    else:\n",
    "        print(f\"{total_courses} total courses pulled for {state} - took {dt}\")\n",
    "    print()\n"
   ]
  },
  {
   "cell_type": "code",
   "execution_count": 9,
   "id": "3fdcfd62-67a6-4a2b-b37e-8f760ddeebaf",
   "metadata": {},
   "outputs": [
    {
     "data": {
      "text/plain": [
       "Text(0.5, 1.0, 'Golf courses by state')"
      ]
     },
     "execution_count": 9,
     "metadata": {},
     "output_type": "execute_result"
    },
    {
     "data": {
      "image/png": "[encoded data removed]",
      "text/plain": [
       "<Figure size 900x640 with 1 Axes>"
      ]
     },
     "metadata": {},
     "output_type": "display_data"
    }
   ],
   "source": [
    "# Simple plot showing number of courses per state\n",
    "counts = data.groupby('state').size()[::-1]\n",
    "fig, ax = plt.subplots(1)\n",
    "fig.set_size_inches(9, 2 + len(counts)* 0.4)\n",
    "counts.plot(kind='barh', ax=ax, width=0.8)\n",
    "for i, ct in enumerate(counts.values):\n",
    "    ax.text(ct + 5, i, ct, ha='left', va='center')\n",
    "ax.set_xlim(0, ax.get_xlim()[1] * 1.1)\n",
    "ax.set_xlabel('Number of courses')\n",
    "ax.set_ylabel('')\n",
    "ax.set_title('Golf courses by state')"
   ]
  },
  {
   "cell_type": "code",
   "execution_count": null,
   "id": "6f059c20-b3ab-41aa-b731-ca8205a42365",
   "metadata": {},
   "outputs": [],
   "source": []
  },
  {
   "cell_type": "code",
   "execution_count": null,
   "id": "30040079-15fe-4497-837f-1efc8bf592c3",
   "metadata": {},
   "outputs": [],
   "source": []
  }
 ],
 "metadata": {
  "kernelspec": {
   "display_name": "Python 3 (ipykernel)",
   "language": "python",
   "name": "python3"
  },
  "language_info": {
   "codemirror_mode": {
    "name": "ipython",
    "version": 3
   },
   "file_extension": ".py",
   "mimetype": "text/x-python",
   "name": "python",
   "nbconvert_exporter": "python",
   "pygments_lexer": "ipython3",
   "version": "3.9.6"
  }
 },
 "nbformat": 4,
 "nbformat_minor": 5
}
