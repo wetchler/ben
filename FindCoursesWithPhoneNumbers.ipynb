{
 "cells": [
  {
   "cell_type": "markdown",
   "id": "68083337-f174-4d85-94c9-f2fa03296ec9",
   "metadata": {},
   "source": [
    "# Ben is my best friend"
   ]
  },
  {
   "cell_type": "markdown",
   "id": "d1c8e7ae-6cda-4d63-bfe7-da5567251f28",
   "metadata": {},
   "source": [
    "### Load code libraries that we'll need"
   ]
  },
  {
   "cell_type": "code",
   "execution_count": 6,
   "id": "d9dc4c61-286e-4fde-8913-e811855770d5",
   "metadata": {
    "tags": []
   },
   "outputs": [],
   "source": [
    "from bs4 import BeautifulSoup\n",
    "import os\n",
    "import pandas as pd\n",
    "import requests"
   ]
  },
  {
   "cell_type": "markdown",
   "id": "44729e1e-2c5b-48d5-a1bb-d1f5bd402dcf",
   "metadata": {},
   "source": [
    "### Store all the URLs for all the states using this website format"
   ]
  },
  {
   "cell_type": "code",
   "execution_count": 2,
   "id": "1f61a4bb-aa06-4775-a375-0a89a93e4a39",
   "metadata": {
    "tags": []
   },
   "outputs": [],
   "source": [
    "URLS = {\n",
    "  'AK': 'https://www.golfalaska.com/golfcourses/results.cfm?startrow=',    \n",
    "  'AL': 'https://www.golfalabama.com/golfcourses/results.cfm?startrow=',\n",
    "  'AZ': 'https://www.arizonagolfer.com/golfcourses/results.cfm?startrow=',\n",
    "  'AR': 'https://www.arkansasgolf.com/golfcourses/results.cfm?startrow=',\n",
    "  'CA': 'https://www.cagolf.com/golfcourses/results.cfm?startrow=',\n",
    "  'CO': 'https://www.golfingcolorado.com/golfcourses/results.cfm?startrow=',\n",
    "  'CT': 'https://www.connecticutgolf.com/golfcourses/results.cfm?startrow=',\n",
    "  'DE': 'https://www.golfdelaware.com/golfcourses/results.cfm?startrow=',\n",
    "  'DC': 'https://www.dcgolf.com/golfcourses/results.cfm?startrow=',\n",
    "  'FL': 'https://www.floridagolfer.com/golfcourses/results.cfm?startrow=',\n",
    "  'GA': 'https://www.golfinggeorgia.com/golfcourses/results.cfm?startrow=',\n",
    "  'HI': 'https://www.hawaiigolfcourses.com/golfcourses/results.cfm?startrow=',\n",
    "  'ID': 'https://www.idahogolf.com/golfcourses/results.cfm?startrow=',\n",
    "  'IL': 'https://www.illinoisgolf.com/golfcourses/results.cfm?startrow=',\n",
    "  'IN': 'https://www.indianagolf.com/golfcourses/results.cfm?startrow=',\n",
    "  'IA': 'https://www.iowagolf.com/golfcourses/results.cfm?startrow=',\n",
    "  'KS': 'https://www.kansasgolf.com/golfcourses/results.cfm?startrow=',\n",
    "  'KY': 'https://www.kentuckygolf.com/golfcourses/results.cfm?startrow=',\n",
    "  'LA': 'https://www.louisianagolf.com/golfcourses/results.cfm?startrow=',\n",
    "  'ME': 'https://www.mainegolf.com/golfcourses/results.cfm?startrow=',\n",
    "  'MD': 'https://www.marylandgolf.com/golfcourses/results.cfm?startrow=',\n",
    "  'MA': 'https://www.golfmassachusetts.com/golfcourses/results.cfm?startrow=',\n",
    "  'MI': 'https://www.golfmichigan.com/golfcourses/results.cfm?startrow=',\n",
    "  'MN': 'https://www.minnesotagolf.com/golfcourses/results.cfm?startrow=',\n",
    "  'MS': 'https://www.golfmississippi.com/golfcourses/results.cfm?startrow=',\n",
    "  'MO': 'https://www.golfmissouri.com/golfcourses/results.cfm?startrow=',\n",
    "  'MT': 'https://www.golfingmontana.com/golfcourses/results.cfm?startrow=',\n",
    "  'NE': 'https://www.golfnebraska.com/golfcourses/results.cfm?startrow=',\n",
    "  'NV': 'https://www.golfnevada.com/golfcourses/results.cfm?startrow=',\n",
    "  'NH': 'https://www.newhampshiregolf.com/golfcourses/results.cfm?startrow=',\n",
    "  'NJ': 'https://www.njgolf.com/golfcourses/results.cfm?startrow=',\n",
    "  'NM': 'https://www.golfingnewmexico.com/golfcourses/results.cfm?startrow=',\n",
    "  'NY': 'https://www.nygolf.com/golfcourses/results.cfm?startrow=',\n",
    "  'NC': 'https://www.ncgolf.com/golfcourses/results.cfm?startrow=',\n",
    "  'ND': 'https://www.northdakotagolf.com/golfcourses/results.cfm?startrow=',\n",
    "  'OH': 'https://www.ohiogolf.com/golfcourses/results.cfm?startrow=',\n",
    "  'OK': 'https://www.golfoklahoma.com/golfcourses/results.cfm?startrow=',\n",
    "  'OR': 'https://www.golforegon.com/golfcourses/results.cfm?startrow=',\n",
    "  'PA': 'https://www.pennsylvaniagolfer.com/golfcourses/results.cfm?startrow=',\n",
    "  'RI': 'https://www.rhodeislandgolf.com/golfcourses/results.cfm?startrow=',\n",
    "  'SC': 'https://www.scgolf.com/golfcourses/results.cfm?startrow=',\n",
    "  'SD': 'https://www.southdakotagolf.com/golfcourses/results.cfm?startrow=',\n",
    "  'TN': 'https://www.golftennessee.com/golfcourses/results.cfm?startrow=',\n",
    "  'TX': 'https://www.texasgolf.com/golfcourses/results.cfm?startrow=',\n",
    "  'UT': 'https://www.utahgolf.com/golfcourses/results.cfm?startrow=',\n",
    "  'VT': 'https://www.golfvermont.com/golfcourses/results.cfm?startrow=',\n",
    "  'VA': 'https://www.golfvirginia.com/golfcourses/results.cfm?startrow=',\n",
    "  'WA': 'https://www.washingtongolf.com/golfcourses/results.cfm?startrow=',\n",
    "  'WV': 'https://www.golfwestvirginia.com/golfcourses/results.cfm?startrow=',\n",
    "  'WI': 'https://www.golfwisconsin.com/golfcourses/results.cfm?startrow=',\n",
    "  'WY': 'https://www.golfwyoming.com/golfcourses/results.cfm?startrow=',\n",
    "}\n",
    "\n",
    "OUTPUT_FILENAME = 'all_courses.csv'"
   ]
  },
  {
   "cell_type": "markdown",
   "id": "048a7d2e-1c64-42a2-b5e6-04bdfd38600c",
   "metadata": {},
   "source": [
    "### Helper functions"
   ]
  },
  {
   "cell_type": "code",
   "execution_count": 29,
   "id": "4b6b66f5-c6ed-432b-a898-dbd6623abf29",
   "metadata": {
    "tags": []
   },
   "outputs": [],
   "source": [
    "# Given a direct url to a single course's information page, find and return the phone number.\n",
    "def get_course_phone(url):\n",
    "    response = requests.get(url)\n",
    "    soup = BeautifulSoup(response.text)\n",
    "    elt = soup.find_all('h4')[0]  # The first h4 is the one we want\n",
    "    lines = elt.text.splitlines()\n",
    "    for line in lines:\n",
    "        line = line.strip()  # Remove whitespace\n",
    "        if line.startswith('Phone:'):\n",
    "            # Will look like: 'Phone: 270-646-4653'\n",
    "            return line.split()[1]  # Return everything after the first space"
   ]
  },
  {
   "cell_type": "code",
   "execution_count": 62,
   "id": "77c0001f-4972-4049-877f-a96586390182",
   "metadata": {
    "tags": []
   },
   "outputs": [],
   "source": [
    "# Return data for (up to) 20 golf courses on the given website, starting with course number \"row_start\"\n",
    "def get_page(base_url, row_start, data):\n",
    "    url = base_url + str(row_start)\n",
    "    response = requests.get(url)\n",
    "\n",
    "    # From 'https://www.kentuckygolf.com/golfcourses/results.cfm?startrow='\n",
    "    # extract the substring, 'https://www.kentuckygolf.com/golfcourses/'\n",
    "    # We'll use this to fetch individual course phone numbers later.\n",
    "    root_url = url.split('results.cfm')[0]\n",
    "\n",
    "    # Find all the golf course information blocks, which are identified by\n",
    "    # an <h4> tag with an <a> nested inside it (which has the course name\n",
    "    # and a link to its website). We are looking for things like:\n",
    "    # <h4><a href=\"../golfcourses/barren-river-lake-golf-course\">Barren River Lake State Resort Park</a></h4>\n",
    "    soup = BeautifulSoup(response.text)\n",
    "    headers = soup.find_all('h4')\n",
    "    filtered_headers = []\n",
    "    for elt in headers:\n",
    "        if elt.find('a'):\n",
    "            filtered_headers.append(elt)\n",
    "\n",
    "    results = []\n",
    "    if not filtered_headers:\n",
    "        return results, False\n",
    "    all_fetched_before = True\n",
    "    for elt in filtered_headers:\n",
    "        url = elt.find('a').attrs['href']  # Will look like '../golfcourses/barren-river-lake-golf-course'\n",
    "        url = root_url + url.split('/golfcourses/')[1]  # Extract 'barren-river-lake-golf-course'\n",
    "        if url in data['url'].values:\n",
    "            continue\n",
    "        all_fetched_before = False\n",
    "        print(len(results) + row_start, end=' ')\n",
    "        name = elt.text.strip()  # Remove whitespace\n",
    "        address = elt.findNext('p').findNext('p').text  # Address is listed two <p> tags later\n",
    "        address = ' '.join(address.split())  # Remove interstitial white space\n",
    "        phone = get_course_phone(url)  # Load the course page and find the phone number\n",
    "        results.append([name, address, phone, url])\n",
    "    print()\n",
    "    return results, all_fetched_before"
   ]
  },
  {
   "cell_type": "markdown",
   "id": "6ea24e36-c802-4ff5-8e7f-cdc47c0e99b4",
   "metadata": {},
   "source": [
    "### Fetch each state's data, writing each to its own file"
   ]
  },
  {
   "cell_type": "code",
   "execution_count": 63,
   "id": "0db80ed7-102d-4976-a4f6-9f0d4f2c22a9",
   "metadata": {},
   "outputs": [],
   "source": [
    "def extract_zip(address):\n",
    "    # 3651 OMalley Rd Anchorage, AK 99516\n",
    "    if isinstance(address, str):\n",
    "        zipcode = address.split()[-1]\n",
    "        if zipcode.isdigit():\n",
    "            return int(zipcode)\n",
    "        return None\n",
    "    return None"
   ]
  },
  {
   "cell_type": "code",
   "execution_count": 65,
   "id": "7c36a5dc-33d3-424f-9c6f-a66fedac4629",
   "metadata": {},
   "outputs": [],
   "source": [
    "if os.path.exists(OUTPUT_FILENAME):\n",
    "    data = pd.read_csv(OUTPUT_FILENAME)\n",
    "else:\n",
    "    data = pd.DataFrame([], columns=['name', 'address', 'state', 'zip', 'phone', 'url'])\n",
    "# data = pd.DataFrame([], columns=['name', 'address', 'state', 'zip', 'phone', 'url'])\n",
    "\n",
    "# Loop through each state and URL pair\n",
    "for state, url in URLS.items():\n",
    "    print(state)\n",
    "    row = 1\n",
    "    while True:\n",
    "        print(\"Fetching 20 courses starting with number\", row)\n",
    "        new_results, all_fetched_before = get_page(url, row, data)\n",
    "        \n",
    "        # Create a DataFrame from all the results\n",
    "        new_data = pd.DataFrame(new_results, columns=['name', 'address', 'phone', 'url'])\n",
    "        new_data['state'] = state\n",
    "        new_data['zip'] = new_data['address'].apply(extract_zip)\n",
    "        \n",
    "        data = pd.concat([data, new_data])\n",
    "        \n",
    "        # Save the DataFrame to a single CSV file\n",
    "        data.to_csv(OUTPUT_FILENAME, index=False)\n",
    "    \n",
    "        if (len(new_results) < 20) and not all_fetched_before:\n",
    "            break\n",
    "        row += 20\n",
    "    print(sum(data['state'] == state), 'pulled for', state)\n",
    "    print()\n"
   ]
  },
  {
   "cell_type": "code",
   "execution_count": null,
   "id": "3fdcfd62-67a6-4a2b-b37e-8f760ddeebaf",
   "metadata": {},
   "outputs": [],
   "source": []
  },
  {
   "cell_type": "code",
   "execution_count": null,
   "id": "6f059c20-b3ab-41aa-b731-ca8205a42365",
   "metadata": {},
   "outputs": [],
   "source": []
  },
  {
   "cell_type": "code",
   "execution_count": null,
   "id": "30040079-15fe-4497-837f-1efc8bf592c3",
   "metadata": {},
   "outputs": [],
   "source": []
  }
 ],
 "metadata": {
  "kernelspec": {
   "display_name": "Python 3 (ipykernel)",
   "language": "python",
   "name": "python3"
  },
  "language_info": {
   "codemirror_mode": {
    "name": "ipython",
    "version": 3
   },
   "file_extension": ".py",
   "mimetype": "text/x-python",
   "name": "python",
   "nbconvert_exporter": "python",
   "pygments_lexer": "ipython3",
   "version": "3.9.6"
  }
 },
 "nbformat": 4,
 "nbformat_minor": 5
}
