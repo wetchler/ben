{
 "cells": [
  {
   "cell_type": "markdown",
   "id": "68083337-f174-4d85-94c9-f2fa03296ec9",
   "metadata": {},
   "source": [
    "# Ben is my best friend"
   ]
  },
  {
   "cell_type": "markdown",
   "id": "d1c8e7ae-6cda-4d63-bfe7-da5567251f28",
   "metadata": {},
   "source": [
    "### Load code libraries that we'll need"
   ]
  },
  {
   "cell_type": "code",
   "execution_count": 1,
   "id": "d9dc4c61-286e-4fde-8913-e811855770d5",
   "metadata": {},
   "outputs": [],
   "source": [
    "from bs4 import BeautifulSoup\n",
    "import pandas as pd\n",
    "import requests"
   ]
  },
  {
   "cell_type": "markdown",
   "id": "44729e1e-2c5b-48d5-a1bb-d1f5bd402dcf",
   "metadata": {},
   "source": [
    "### Store all the URLs for all the states using this website format"
   ]
  },
  {
   "cell_type": "code",
   "execution_count": 2,
   "id": "1f61a4bb-aa06-4775-a375-0a89a93e4a39",
   "metadata": {},
   "outputs": [],
   "source": [
    "URLS = {\n",
    "  'KY': 'https://www.kentuckygolf.com/golfcourses/results.cfm?startrow=',\n",
    "  'TN': 'https://www.golftennessee.com/golfcourses/results.cfm?startrow=',\n",
    "}"
   ]
  },
  {
   "cell_type": "markdown",
   "id": "048a7d2e-1c64-42a2-b5e6-04bdfd38600c",
   "metadata": {},
   "source": [
    "### Helper functions"
   ]
  },
  {
   "cell_type": "code",
   "execution_count": 3,
   "id": "4b6b66f5-c6ed-432b-a898-dbd6623abf29",
   "metadata": {},
   "outputs": [],
   "source": [
    "# Given a direct url to a single course's information page, find and return the phone number.\n",
    "def get_course_phone(url):\n",
    "    response = requests.get(url)\n",
    "    soup = BeautifulSoup(response.text)\n",
    "    elt = soup.find_all('h4')[0]  # The first h4 is the one we want\n",
    "    lines = elt.text.splitlines()\n",
    "    for line in lines:\n",
    "        line = line.strip()  # Remove whitespace\n",
    "        if line.startswith('Phone:'):\n",
    "            # Will look like: 'Phone: 270-646-4653'\n",
    "            return line.split()[1]  # Return everything after the first space"
   ]
  },
  {
   "cell_type": "code",
   "execution_count": 4,
   "id": "77c0001f-4972-4049-877f-a96586390182",
   "metadata": {},
   "outputs": [],
   "source": [
    "# Return data for (up to) 20 golf courses on the given website, starting with course number \"row_start\"\n",
    "def get_page(base_url, row_start):\n",
    "    url = base_url + str(row_start)\n",
    "    response = requests.get(url)\n",
    "\n",
    "    # From 'https://www.kentuckygolf.com/golfcourses/results.cfm?startrow='\n",
    "    # extract the substring, 'https://www.kentuckygolf.com/golfcourses/'\n",
    "    # We'll use this to fetch individual course phone numbers later.\n",
    "    root_url = url.split('results.cfm')[0]\n",
    "\n",
    "    # Find all the golf course information blocks, which are identified by\n",
    "    # an <h4> tag with an <a> nested inside it (which has the course name\n",
    "    # and a link to its website). We are looking for things like:\n",
    "    # <h4><a href=\"../golfcourses/barren-river-lake-golf-course\">Barren River Lake State Resort Park</a></h4>\n",
    "    soup = BeautifulSoup(response.text)\n",
    "    headers = soup.find_all('h4')\n",
    "    filtered_headers = []\n",
    "    for elt in headers:\n",
    "        if elt.find('a'):\n",
    "            filtered_headers.append(elt)\n",
    "\n",
    "    results = []\n",
    "    for elt in filtered_headers:\n",
    "        print(len(results) + row_start, end=' ')\n",
    "        name = elt.text.strip()  # Remove whitespace\n",
    "        url = elt.find('a').attrs['href']  # Will look like '../golfcourses/barren-river-lake-golf-course'\n",
    "        url = root_url + url.split('/golfcourses/')[1]  # Extract 'barren-river-lake-golf-course'\n",
    "        address = elt.findNext('p').findNext('p').text  # Address is listed two <p> tags later\n",
    "        address = ' '.join(address.split())  # Remove interstitial white space\n",
    "        phone = get_course_phone(url)  # Load the course page and find the phone number\n",
    "        results.append([name, address, phone, url])\n",
    "    print()\n",
    "    return results"
   ]
  },
  {
   "cell_type": "markdown",
   "id": "6ea24e36-c802-4ff5-8e7f-cdc47c0e99b4",
   "metadata": {},
   "source": [
    "### Fetch each state's data, writing each to its own file"
   ]
  },
  {
   "cell_type": "code",
   "execution_count": 5,
   "id": "f3b79690-707e-420c-8ad5-1ef121cdbfb4",
   "metadata": {},
   "outputs": [
    {
     "name": "stdout",
     "output_type": "stream",
     "text": [
      "KY\n",
      "Fetching 20 courses starting with number 1\n",
      "1 2 3 4 5 6 7 8 9 10 11 12 13 14 15 16 17 18 19 20 \n",
      "Fetching 20 courses starting with number 21\n",
      "21 22 23 24 25 26 27 28 29 30 31 32 33 34 35 36 37 38 39 40 \n",
      "Fetching 20 courses starting with number 41\n",
      "41 42 43 44 45 46 47 48 49 50 51 52 53 54 55 56 57 58 59 60 \n",
      "Fetching 20 courses starting with number 61\n",
      "61 62 63 64 65 66 67 68 69 70 71 72 73 74 75 76 77 78 79 80 \n",
      "Fetching 20 courses starting with number 81\n",
      "81 82 83 84 85 86 87 88 89 90 91 92 93 94 95 96 97 98 99 100 \n",
      "Fetching 20 courses starting with number 101\n",
      "101 102 103 104 105 106 107 108 109 110 111 112 113 114 115 116 117 118 119 120 \n",
      "Fetching 20 courses starting with number 121\n",
      "121 122 123 124 125 126 127 128 129 130 131 132 133 134 135 136 137 138 139 140 \n",
      "Fetching 20 courses starting with number 141\n",
      "141 142 143 144 145 146 147 148 149 150 151 152 153 154 155 156 157 158 159 160 \n",
      "Fetching 20 courses starting with number 161\n",
      "161 162 163 164 165 166 167 168 169 170 171 172 173 174 175 176 177 178 179 180 \n",
      "Fetching 20 courses starting with number 181\n",
      "181 182 183 184 185 186 187 188 189 190 191 192 193 194 195 196 197 198 199 200 \n",
      "Fetching 20 courses starting with number 201\n",
      "201 202 203 204 205 206 207 208 209 210 211 212 213 214 215 216 217 218 219 220 \n",
      "Fetching 20 courses starting with number 221\n",
      "221 222 223 224 225 226 227 228 229 230 231 232 233 234 235 236 237 238 239 240 \n",
      "Fetching 20 courses starting with number 241\n",
      "241 242 243 244 245 246 247 248 249 250 251 252 253 254 255 256 257 258 259 260 \n",
      "Fetching 20 courses starting with number 261\n",
      "261 262 263 264 265 266 267 268 269 270 271 272 273 274 275 276 277 278 279 280 \n",
      "Fetching 20 courses starting with number 281\n",
      "281 282 283 284 285 286 287 288 289 290 \n",
      "\n",
      "TN\n",
      "Fetching 20 courses starting with number 1\n",
      "1 2 3 4 5 6 7 8 9 10 11 12 13 14 15 16 17 18 19 20 \n",
      "Fetching 20 courses starting with number 21\n",
      "21 22 23 24 25 26 27 28 29 30 31 32 33 34 35 36 37 38 39 40 \n",
      "Fetching 20 courses starting with number 41\n",
      "41 42 43 44 45 46 47 48 49 50 51 52 53 54 55 56 57 58 59 60 \n",
      "Fetching 20 courses starting with number 61\n",
      "61 62 63 64 65 66 67 68 69 70 71 72 73 74 75 76 77 78 79 80 \n",
      "Fetching 20 courses starting with number 81\n",
      "81 82 83 84 85 86 87 88 89 90 91 92 93 94 95 96 97 98 99 100 \n",
      "Fetching 20 courses starting with number 101\n",
      "101 102 103 104 105 106 107 108 109 110 111 112 113 114 115 116 117 118 119 120 \n",
      "Fetching 20 courses starting with number 121\n",
      "121 122 123 124 125 126 127 128 129 130 131 132 133 134 135 136 137 138 139 140 \n",
      "Fetching 20 courses starting with number 141\n",
      "141 142 143 144 145 146 147 148 149 150 151 152 153 154 155 156 157 158 159 160 \n",
      "Fetching 20 courses starting with number 161\n",
      "161 162 163 164 165 166 167 168 169 170 171 172 173 174 175 176 177 178 179 180 \n",
      "Fetching 20 courses starting with number 181\n",
      "181 182 183 184 185 186 187 188 189 190 191 192 193 194 195 196 197 198 199 200 \n",
      "Fetching 20 courses starting with number 201\n",
      "201 202 203 204 205 206 207 208 209 210 211 212 213 214 215 216 217 218 219 220 \n",
      "Fetching 20 courses starting with number 221\n",
      "221 222 223 224 225 226 227 228 229 230 231 232 233 234 235 236 237 238 239 240 \n",
      "Fetching 20 courses starting with number 241\n",
      "241 242 243 244 245 246 247 248 249 250 251 252 253 254 255 256 257 258 259 260 \n",
      "Fetching 20 courses starting with number 261\n",
      "261 262 263 264 265 266 267 268 269 270 271 272 273 274 \n",
      "\n"
     ]
    }
   ],
   "source": [
    "for state, url in URLS.items():\n",
    "    print(state)\n",
    "    results = []\n",
    "    row = 1\n",
    "    while True:\n",
    "        print(\"Fetching 20 courses starting with number\", row)\n",
    "        new_results = get_page(url, row)\n",
    "        results.extend(new_results)\n",
    "        # Save data as we go, so we can look at the partially-complete CSV files\n",
    "        # as the code is doing its thing. So we can flag problems without having\n",
    "        # to wait for the whole thing to finish.\n",
    "        data = pd.DataFrame(results, columns=['name', 'address', 'phone', 'url'])\n",
    "        data.to_csv('courses_' + state + '.csv', index=False)\n",
    "        if len(new_results) < 20:\n",
    "            break\n",
    "        row += 20\n",
    "    print(len(new_results), 'pulled for', state)\n",
    "    print()"
   ]
  },
  {
   "cell_type": "code",
   "execution_count": null,
   "id": "89ae7cfa-ec78-4e1a-83bc-72a7fdcfed96",
   "metadata": {},
   "outputs": [],
   "source": []
  }
 ],
 "metadata": {
  "kernelspec": {
   "display_name": "Python 3 (ipykernel)",
   "language": "python",
   "name": "python3"
  },
  "language_info": {
   "codemirror_mode": {
    "name": "ipython",
    "version": 3
   },
   "file_extension": ".py",
   "mimetype": "text/x-python",
   "name": "python",
   "nbconvert_exporter": "python",
   "pygments_lexer": "ipython3",
   "version": "3.9.6"
  }
 },
 "nbformat": 4,
 "nbformat_minor": 5
}
