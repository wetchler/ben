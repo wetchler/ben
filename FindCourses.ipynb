{
 "cells": [
  {
   "cell_type": "markdown",
   "id": "68083337-f174-4d85-94c9-f2fa03296ec9",
   "metadata": {},
   "source": [
    "# Ben is my best friend"
   ]
  },
  {
   "cell_type": "code",
   "execution_count": 47,
   "id": "d9dc4c61-286e-4fde-8913-e811855770d5",
   "metadata": {},
   "outputs": [],
   "source": [
    "from bs4 import BeautifulSoup\n",
    "import pandas as pd\n",
    "import requests"
   ]
  },
  {
   "cell_type": "code",
   "execution_count": 51,
   "id": "77c0001f-4972-4049-877f-a96586390182",
   "metadata": {},
   "outputs": [],
   "source": [
    "def get_page(row_start):\n",
    "    url = 'https://www.kentuckygolf.com/golfcourses/results.cfm?startrow=' + str(row_start)\n",
    "    response = requests.get(url)\n",
    "    \n",
    "    soup = BeautifulSoup(response.text)\n",
    "    headers = soup.find_all('h4')\n",
    "    \n",
    "    filtered_headers = []\n",
    "    for elt in headers:\n",
    "        if elt.find('a'):\n",
    "            filtered_headers.append(elt)\n",
    "\n",
    "    results = []\n",
    "    for elt in filtered_headers:\n",
    "        name = elt.text\n",
    "        address = elt.findNext('p').findNext('p').text\n",
    "        address = ' '.join(address.split())\n",
    "        results.append([name, address])\n",
    "    return results"
   ]
  },
  {
   "cell_type": "code",
   "execution_count": 55,
   "id": "4e62f4c2-a91a-438f-bfa9-24823958e414",
   "metadata": {},
   "outputs": [
    {
     "name": "stdout",
     "output_type": "stream",
     "text": [
      "1 21 41 61 81 101 121 141 161 181 201 221 241 261 281 "
     ]
    }
   ],
   "source": [
    "results = []\n",
    "row = 1\n",
    "while True:\n",
    "    new_results = get_page(row)\n",
    "    print(row, end=' ')\n",
    "    results.extend(new_results)\n",
    "    if len(new_results) < 20:\n",
    "        break\n",
    "    row += 20"
   ]
  },
  {
   "cell_type": "code",
   "execution_count": 56,
   "id": "b38d9038-acda-40db-b7b8-048baf8dc6fd",
   "metadata": {},
   "outputs": [],
   "source": [
    "data = pd.DataFrame(results, columns=['name', 'address'])\n",
    "data.to_csv('courses.csv', index=False)"
   ]
  },
  {
   "cell_type": "code",
   "execution_count": null,
   "id": "41503e42-a3b5-4362-9e74-471fcecd5aab",
   "metadata": {},
   "outputs": [],
   "source": []
  }
 ],
 "metadata": {
  "kernelspec": {
   "display_name": "Python 3 (ipykernel)",
   "language": "python",
   "name": "python3"
  },
  "language_info": {
   "codemirror_mode": {
    "name": "ipython",
    "version": 3
   },
   "file_extension": ".py",
   "mimetype": "text/x-python",
   "name": "python",
   "nbconvert_exporter": "python",
   "pygments_lexer": "ipython3",
   "version": "3.9.6"
  }
 },
 "nbformat": 4,
 "nbformat_minor": 5
}
